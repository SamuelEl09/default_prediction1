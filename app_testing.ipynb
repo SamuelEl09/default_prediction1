{
 "cells": [
  {
   "cell_type": "code",
   "execution_count": 21,
   "metadata": {},
   "outputs": [],
   "source": [
    "import requests\n",
    "import json"
   ]
  },
  {
   "cell_type": "code",
   "execution_count": 30,
   "metadata": {},
   "outputs": [],
   "source": [
    "import sklearn, flask, pickle, pandas"
   ]
  },
  {
   "cell_type": "code",
   "execution_count": 37,
   "metadata": {},
   "outputs": [
    {
     "name": "stdout",
     "output_type": "stream",
     "text": [
      "<module 'pandas' from 'c:\\\\Users\\\\elias\\\\anaconda3\\\\envs\\\\JCDS0412\\\\Lib\\\\site-packages\\\\pandas\\\\__init__.py'> == 2.2.3\n",
      "<module 'flask' from 'c:\\\\Users\\\\elias\\\\anaconda3\\\\envs\\\\JCDS0412\\\\Lib\\\\site-packages\\\\flask\\\\__init__.py'> == 3.1.0\n",
      "<module 'sklearn' from 'c:\\\\Users\\\\elias\\\\anaconda3\\\\envs\\\\JCDS0412\\\\Lib\\\\site-packages\\\\sklearn\\\\__init__.py'> == 1.5.2\n"
     ]
    },
    {
     "name": "stderr",
     "output_type": "stream",
     "text": [
      "C:\\Users\\elias\\AppData\\Local\\Temp\\ipykernel_4936\\4208514415.py:2: DeprecationWarning: The '__version__' attribute is deprecated and will be removed in Flask 3.1. Use feature detection or 'importlib.metadata.version(\"flask\")' instead.\n",
      "  print(f\"{i} == {i.__version__}\")\n"
     ]
    }
   ],
   "source": [
    "for i in [pandas,flask,sklearn]:\n",
    "    print(f\"{i} == {i.__version__}\")"
   ]
  },
  {
   "cell_type": "code",
   "execution_count": 22,
   "metadata": {},
   "outputs": [],
   "source": [
    "# Create data dummy\n",
    "data = { 'data':[[20000,2,2,1,24,2,2,-1,-1,-2,-2,3913,3102,689,0,0,0,0,689,0,0,0,0]]\n",
    "\n",
    "}"
   ]
  },
  {
   "cell_type": "code",
   "execution_count": 28,
   "metadata": {},
   "outputs": [
    {
     "data": {
      "text/plain": [
       "{'prediction': [0.7889363714237408]}"
      ]
     },
     "execution_count": 28,
     "metadata": {},
     "output_type": "execute_result"
    }
   ],
   "source": [
    "URL = 'http://127.0.0.1:5000/predict'\n",
    "\n",
    "result = requests.post(url=URL, json=data)\n",
    "result.json()"
   ]
  }
 ],
 "metadata": {
  "kernelspec": {
   "display_name": "JCDS0412",
   "language": "python",
   "name": "python3"
  },
  "language_info": {
   "codemirror_mode": {
    "name": "ipython",
    "version": 3
   },
   "file_extension": ".py",
   "mimetype": "text/x-python",
   "name": "python",
   "nbconvert_exporter": "python",
   "pygments_lexer": "ipython3",
   "version": "3.12.7"
  }
 },
 "nbformat": 4,
 "nbformat_minor": 2
}
